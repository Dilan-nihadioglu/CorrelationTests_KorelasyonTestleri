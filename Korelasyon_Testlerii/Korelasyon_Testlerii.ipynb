{
 "cells": [
  {
   "cell_type": "markdown",
   "id": "3ab2f995-7919-4415-a01f-f0a138d84410",
   "metadata": {},
   "source": [
    "# Korelasyon Testleri\n",
    "- Korelasyon testleri iki örneğin ilişkili olup olmadığını kontrol etmek için kullanılır.sti"
   ]
  },
  {
   "cell_type": "markdown",
   "id": "a4ee5eaf-70d6-44b7-9b49-419c5802a6f7",
   "metadata": {},
   "source": [
    "#### Kullanılacak Korelasyon Testleri\n",
    "- Pearson Korelasyon Katsayısı\n",
    "- Spearman'ın Sıra Korelasyonu\n",
    "- Kendall'ın Sıra Korelasyonu\n",
    "- Ki-Kare Testi"
   ]
  },
  {
   "cell_type": "markdown",
   "id": "bf80bbdc-d51e-4ef6-a85e-f2610e2ee45a",
   "metadata": {},
   "source": [
    "## 1) Pearson korelasyon katsayısı\n",
    "- iki sürekli değişken arasındaki doğrusal bir ilişkinin gücünü ve yönünü gösterir. Pearson korelasyon katsayısı popülasyon parametresi olarak rho (ρ), örneklem istatistiği olarak “r” ile temsil edilir.\n",
    "- **Parametrik** bir testtir. Verininn normal dağıldığını ve eş varyansa sahip olduğunu varsayar.\n",
    "- Sadece 2 sürekli değişken arasındaki ilişkiyi ölçebiliriz.\n",
    "- Özetle iki örneğin doğrusal bir ilişkiye sahip olup olmadığına bakar.\n",
    "- H0: İki örnek bağımsızdır.(**ρ=0**)\n",
    "- H1: İki örnek bağımlıdır.(**ρ≠0**)"
   ]
  },
  {
   "cell_type": "code",
   "execution_count": 14,
   "id": "000b4d60-cf5d-40de-bd12-4cec744ac4b1",
   "metadata": {},
   "outputs": [],
   "source": [
    "import pandas as pd\n",
    "import scipy.stats as stats\n",
    "import matplotlib.pyplot as plt\n",
    "import numpy as np\n",
    "import seaborn as sns"
   ]
  },
  {
   "cell_type": "code",
   "execution_count": 76,
   "id": "3a4db41a-a900-4c9b-87fe-d89ad24ef2cc",
   "metadata": {},
   "outputs": [
    {
     "data": {
      "text/html": [
       "<div>\n",
       "<style scoped>\n",
       "    .dataframe tbody tr th:only-of-type {\n",
       "        vertical-align: middle;\n",
       "    }\n",
       "\n",
       "    .dataframe tbody tr th {\n",
       "        vertical-align: top;\n",
       "    }\n",
       "\n",
       "    .dataframe thead th {\n",
       "        text-align: right;\n",
       "    }\n",
       "</style>\n",
       "<table border=\"1\" class=\"dataframe\">\n",
       "  <thead>\n",
       "    <tr style=\"text-align: right;\">\n",
       "      <th></th>\n",
       "      <th>Index</th>\n",
       "      <th>Height(Inches)</th>\n",
       "      <th>Weight(Pounds)</th>\n",
       "    </tr>\n",
       "  </thead>\n",
       "  <tbody>\n",
       "    <tr>\n",
       "      <th>0</th>\n",
       "      <td>1</td>\n",
       "      <td>65.78331</td>\n",
       "      <td>112.9925</td>\n",
       "    </tr>\n",
       "    <tr>\n",
       "      <th>1</th>\n",
       "      <td>2</td>\n",
       "      <td>71.51521</td>\n",
       "      <td>136.4873</td>\n",
       "    </tr>\n",
       "    <tr>\n",
       "      <th>2</th>\n",
       "      <td>3</td>\n",
       "      <td>69.39874</td>\n",
       "      <td>153.0269</td>\n",
       "    </tr>\n",
       "  </tbody>\n",
       "</table>\n",
       "</div>"
      ],
      "text/plain": [
       "   Index  Height(Inches)  Weight(Pounds)\n",
       "0      1        65.78331        112.9925\n",
       "1      2        71.51521        136.4873\n",
       "2      3        69.39874        153.0269"
      ]
     },
     "execution_count": 76,
     "metadata": {},
     "output_type": "execute_result"
    }
   ],
   "source": [
    "# Veri setini yükleyin : Boy-Kilo veri seti\n",
    "df = pd.read_csv(\"SOCR-HeightWeight.csv\")\n",
    "df.head(3)"
   ]
  },
  {
   "cell_type": "markdown",
   "id": "729c9628-9984-4e66-b73d-4e09b0296b42",
   "metadata": {},
   "source": [
    "**Soru 1:** Bireylerin boyları ve kiloları arasındaki ilişki miktarını ve yönünü\n",
    "0,05 anlamlılık düzeyinde araştırın.\n",
    "- **H0:** Boy ile kilo arasında anlamlı bir doğrusal ilişki yoktur.(ρ=0)\n",
    "- **H1:** Boy ile kilo arasında anlamlı bir doğrusal ilişki vardır.(ρ≠0)"
   ]
  },
  {
   "cell_type": "code",
   "execution_count": 91,
   "id": "505ea149-2c83-40ff-a069-61233f364877",
   "metadata": {},
   "outputs": [
    {
     "name": "stdout",
     "output_type": "stream",
     "text": [
      "stat=1.433, p=0.488\n",
      "H0 kabul edilir.Veri normal dağılmıştır.\n"
     ]
    }
   ],
   "source": [
    "#öncelikle parametrik test olduğu için normallik varsayımını kontrol etmemiz gerekir.\n",
    "# Height değişkenini seçelim\n",
    "boy = df['Height(Inches)'].dropna()\n",
    "# D'Agostino'nun K² testi\n",
    "from scipy.stats import normaltest\n",
    "stat_d, p3 = normaltest(boy)\n",
    "print('stat=%.3f, p=%.3f' % (stat_d, p3))\n",
    "#Sonucu yorumlama\n",
    "if p3 > 0.05:\n",
    " print('H0 kabul edilir.Veri normal dağılmıştır.')\n",
    "else:\n",
    " print('H0 reddedilir.Veri normal dağılmamıştır.')"
   ]
  },
  {
   "cell_type": "code",
   "execution_count": 93,
   "id": "ccda28b1-49fa-4256-a98c-234b79e8bf2f",
   "metadata": {},
   "outputs": [
    {
     "name": "stdout",
     "output_type": "stream",
     "text": [
      "stat=1.433, p=0.488\n",
      "H0 kabul edilir.Veri normal dağılmıştır.\n"
     ]
    }
   ],
   "source": [
    "# Weight değişkenini seçelim\n",
    "kilo = df['Height(Inches)'].dropna()\n",
    "# D'Agostino'nun K² testi\n",
    "stat_d, p3 = normaltest(kilo)\n",
    "print('stat=%.3f, p=%.3f' % (stat_d, p3))\n",
    "#Sonucu yorumlama\n",
    "if p3 > 0.05:\n",
    " print('H0 kabul edilir.Veri normal dağılmıştır.')\n",
    "else:\n",
    " print('H0 reddedilir.Veri normal dağılmamıştır.')"
   ]
  },
  {
   "cell_type": "markdown",
   "id": "5c324bfd-a559-4993-a317-e9c839854c47",
   "metadata": {},
   "source": [
    "**Veri normal dağılıyor ve sadece 2 değişkenin birbiri ile ilişkili olup olmadığını kontrol edeceğiz.**"
   ]
  },
  {
   "cell_type": "code",
   "execution_count": 101,
   "id": "0a5fd2af-21f3-4c4a-adff-ae4db7359505",
   "metadata": {},
   "outputs": [],
   "source": [
    "from scipy.stats import pearsonr"
   ]
  },
  {
   "cell_type": "code",
   "execution_count": 109,
   "id": "10992ede-c6b1-4e49-959d-6221fac75ff9",
   "metadata": {},
   "outputs": [
    {
     "name": "stdout",
     "output_type": "stream",
     "text": [
      "stat=1.000, p=0.000\n"
     ]
    }
   ],
   "source": [
    "#Pearson Korelasyon Katsayısı\n",
    "stat1, p1 = pearsonr(boy, kilo)\n",
    "print('stat=%.3f, p=%.3f' % (stat1, p1))"
   ]
  },
  {
   "cell_type": "code",
   "execution_count": 111,
   "id": "78d7e56a-2790-49c7-9468-f10f559e290e",
   "metadata": {},
   "outputs": [
    {
     "name": "stdout",
     "output_type": "stream",
     "text": [
      "H0 reddedilir.Boy ile kilo arasında anlamlı bir doğrusal ilişki vardır.(ρ≠0)\n"
     ]
    }
   ],
   "source": [
    "#Sonucu yorumlama\n",
    "if p1 > 0.05:\n",
    " print('H0 kabul edilir.Boy ile kilo arasında anlamlı bir doğrusal ilişki yoktur.(ρ=0)')\n",
    "else:\n",
    " print('H0 reddedilir.Boy ile kilo arasında anlamlı bir doğrusal ilişki vardır.(ρ≠0)')"
   ]
  },
  {
   "cell_type": "code",
   "execution_count": 128,
   "id": "efabf078-d63d-4c69-a929-2bdc9c13397f",
   "metadata": {},
   "outputs": [
    {
     "data": {
      "image/png": "[encoded data removed]",
      "text/plain": [
       "<Figure size 800x600 with 2 Axes>"
      ]
     },
     "metadata": {},
     "output_type": "display_data"
    }
   ],
   "source": [
    "correlation_matrix = df.corr()\n",
    "plt.figure(figsize=(8, 6))\n",
    "sns.heatmap(correlation_matrix, annot=True, fmt='.2f')\n",
    "plt.title('Korelasyon Matrisi')\n",
    "plt.show()"
   ]
  },
  {
   "cell_type": "markdown",
   "id": "53812f6b-a156-4e9f-85ce-e8af66913ddb",
   "metadata": {},
   "source": [
    "**Soru2:** Normal dağıldığı varsayılan biyoistatistik dersi sınav sonuçları\n",
    "arasındaki ilişki miktarını ve yönünü\n",
    "0,05 anlamlılık düzeyinde araştırın.\n",
    "- **H0:** biyoistatistik dersi sınav sonuçları\n",
    "arasında anlamlı bir doğrusal ilişki yoktur.(ρ=0)\n",
    "- **H1:** biyoistatistik dersi sınav sonuçları\n",
    "arasındao arasında anlamlı bir doğrusal ilişki vardır.(ρ≠0)"
   ]
  },
  {
   "cell_type": "code",
   "execution_count": 135,
   "id": "86a15c24-95c5-4dda-837d-1ee327340a8a",
   "metadata": {},
   "outputs": [
    {
     "data": {
      "text/html": [
       "<div>\n",
       "<style scoped>\n",
       "    .dataframe tbody tr th:only-of-type {\n",
       "        vertical-align: middle;\n",
       "    }\n",
       "\n",
       "    .dataframe tbody tr th {\n",
       "        vertical-align: top;\n",
       "    }\n",
       "\n",
       "    .dataframe thead th {\n",
       "        text-align: right;\n",
       "    }\n",
       "</style>\n",
       "<table border=\"1\" class=\"dataframe\">\n",
       "  <thead>\n",
       "    <tr style=\"text-align: right;\">\n",
       "      <th></th>\n",
       "      <th>Midterm</th>\n",
       "      <th>Final</th>\n",
       "    </tr>\n",
       "  </thead>\n",
       "  <tbody>\n",
       "    <tr>\n",
       "      <th>0</th>\n",
       "      <td>46</td>\n",
       "      <td>56</td>\n",
       "    </tr>\n",
       "    <tr>\n",
       "      <th>1</th>\n",
       "      <td>45</td>\n",
       "      <td>59</td>\n",
       "    </tr>\n",
       "    <tr>\n",
       "      <th>2</th>\n",
       "      <td>56</td>\n",
       "      <td>62</td>\n",
       "    </tr>\n",
       "    <tr>\n",
       "      <th>3</th>\n",
       "      <td>62</td>\n",
       "      <td>75</td>\n",
       "    </tr>\n",
       "    <tr>\n",
       "      <th>4</th>\n",
       "      <td>48</td>\n",
       "      <td>74</td>\n",
       "    </tr>\n",
       "  </tbody>\n",
       "</table>\n",
       "</div>"
      ],
      "text/plain": [
       "   Midterm  Final\n",
       "0       46     56\n",
       "1       45     59\n",
       "2       56     62\n",
       "3       62     75\n",
       "4       48     74"
      ]
     },
     "execution_count": 135,
     "metadata": {},
     "output_type": "execute_result"
    }
   ],
   "source": [
    "midterm = [46, 45, 56, 62, 48, 59, 61, 62, 84, 59, 68]\n",
    "final = [56, 59, 62, 75, 74, 76, 89, 71, 79, 65, 78]\n",
    "data = pd.DataFrame({'Midterm': midterm, 'Final': final})\n",
    "data.head()"
   ]
  },
  {
   "cell_type": "code",
   "execution_count": 151,
   "id": "50d485ff-14a1-4ab4-9900-6d2346ce6a8f",
   "metadata": {},
   "outputs": [
    {
     "name": "stdout",
     "output_type": "stream",
     "text": [
      "stat=0.612, p=0.045\n"
     ]
    }
   ],
   "source": [
    "#Pearson Korelasyon Katsayısı\n",
    "stat2, p2 = pearsonr(data[\"Midterm\"],data[\"Final\"] )\n",
    "print('stat=%.3f, p=%.3f' % (stat2, p2))"
   ]
  },
  {
   "cell_type": "code",
   "execution_count": 168,
   "id": "16b77b07-2937-4529-874e-b71ff2476bb8",
   "metadata": {},
   "outputs": [
    {
     "name": "stdout",
     "output_type": "stream",
     "text": [
      "H0 reddedilir.Biyoistatistik dersi sınav sonuçları arasında arasında anlamlı bir doğrusal ilişki vardır.(ρ≠0)\n"
     ]
    }
   ],
   "source": [
    "#Sonucu yorumlama\n",
    "if p1 > 0.05:\n",
    " print(\"H0 kabul edilir.Biyoistatistik dersi sınav sonuçları arasında anlamlı bir doğrusal ilişki yoktur.(ρ=0)\")\n",
    "else:\n",
    " print('H0 reddedilir.Biyoistatistik dersi sınav sonuçları arasında arasında anlamlı bir doğrusal ilişki vardır.(ρ≠0)')"
   ]
  },
  {
   "cell_type": "markdown",
   "id": "ff11f6cf-ac58-42bf-aa29-b262e435183d",
   "metadata": {},
   "source": [
    "## 2)Spearman'ın Sıra Korelasyonu\n",
    "- Parametrik olmayan testtir.\n",
    "- Spearman korelasyon katsayısı değişkenlerin birinin ordinal veri tipinde olduğu ve pearson korelasyon katsayısının sağlanmadığı durumlarda kullanılmalıdır.\n",
    "- Sadece doğrusal değil monoton ilişkileri de ölçer.\n",
    "- Örneğin sponsor bütçesi ile yarışı bitirme derecesi ilişkisinin incelenmesi."
   ]
  },
  {
   "cell_type": "code",
   "execution_count": 161,
   "id": "a24483fa-ffc7-4403-a293-8545e0134836",
   "metadata": {},
   "outputs": [
    {
     "data": {
      "text/html": [
       "<div>\n",
       "<style scoped>\n",
       "    .dataframe tbody tr th:only-of-type {\n",
       "        vertical-align: middle;\n",
       "    }\n",
       "\n",
       "    .dataframe tbody tr th {\n",
       "        vertical-align: top;\n",
       "    }\n",
       "\n",
       "    .dataframe thead th {\n",
       "        text-align: right;\n",
       "    }\n",
       "</style>\n",
       "<table border=\"1\" class=\"dataframe\">\n",
       "  <thead>\n",
       "    <tr style=\"text-align: right;\">\n",
       "      <th></th>\n",
       "      <th>fixed acidity</th>\n",
       "      <th>volatile acidity</th>\n",
       "      <th>citric acid</th>\n",
       "      <th>residual sugar</th>\n",
       "      <th>chlorides</th>\n",
       "      <th>free sulfur dioxide</th>\n",
       "      <th>total sulfur dioxide</th>\n",
       "      <th>density</th>\n",
       "      <th>pH</th>\n",
       "      <th>sulphates</th>\n",
       "      <th>alcohol</th>\n",
       "      <th>quality</th>\n",
       "      <th>Id</th>\n",
       "    </tr>\n",
       "  </thead>\n",
       "  <tbody>\n",
       "    <tr>\n",
       "      <th>0</th>\n",
       "      <td>7.4</td>\n",
       "      <td>0.70</td>\n",
       "      <td>0.00</td>\n",
       "      <td>1.9</td>\n",
       "      <td>0.076</td>\n",
       "      <td>11.0</td>\n",
       "      <td>34.0</td>\n",
       "      <td>0.9978</td>\n",
       "      <td>3.51</td>\n",
       "      <td>0.56</td>\n",
       "      <td>9.4</td>\n",
       "      <td>5</td>\n",
       "      <td>0</td>\n",
       "    </tr>\n",
       "    <tr>\n",
       "      <th>1</th>\n",
       "      <td>7.8</td>\n",
       "      <td>0.88</td>\n",
       "      <td>0.00</td>\n",
       "      <td>2.6</td>\n",
       "      <td>0.098</td>\n",
       "      <td>25.0</td>\n",
       "      <td>67.0</td>\n",
       "      <td>0.9968</td>\n",
       "      <td>3.20</td>\n",
       "      <td>0.68</td>\n",
       "      <td>9.8</td>\n",
       "      <td>5</td>\n",
       "      <td>1</td>\n",
       "    </tr>\n",
       "    <tr>\n",
       "      <th>2</th>\n",
       "      <td>7.8</td>\n",
       "      <td>0.76</td>\n",
       "      <td>0.04</td>\n",
       "      <td>2.3</td>\n",
       "      <td>0.092</td>\n",
       "      <td>15.0</td>\n",
       "      <td>54.0</td>\n",
       "      <td>0.9970</td>\n",
       "      <td>3.26</td>\n",
       "      <td>0.65</td>\n",
       "      <td>9.8</td>\n",
       "      <td>5</td>\n",
       "      <td>2</td>\n",
       "    </tr>\n",
       "  </tbody>\n",
       "</table>\n",
       "</div>"
      ],
      "text/plain": [
       "   fixed acidity  volatile acidity  citric acid  residual sugar  chlorides  \\\n",
       "0            7.4              0.70         0.00             1.9      0.076   \n",
       "1            7.8              0.88         0.00             2.6      0.098   \n",
       "2            7.8              0.76         0.04             2.3      0.092   \n",
       "\n",
       "   free sulfur dioxide  total sulfur dioxide  density    pH  sulphates  \\\n",
       "0                 11.0                  34.0   0.9978  3.51       0.56   \n",
       "1                 25.0                  67.0   0.9968  3.20       0.68   \n",
       "2                 15.0                  54.0   0.9970  3.26       0.65   \n",
       "\n",
       "   alcohol  quality  Id  \n",
       "0      9.4        5   0  \n",
       "1      9.8        5   1  \n",
       "2      9.8        5   2  "
      ]
     },
     "execution_count": 161,
     "metadata": {},
     "output_type": "execute_result"
    }
   ],
   "source": [
    "# Veri setini yükleyin : Şarap kalitesi veri seti\n",
    "df = pd.read_csv(\"WineQT.csv\")\n",
    "df.head(3)"
   ]
  },
  {
   "cell_type": "markdown",
   "id": "55aafc8e-f506-4485-adab-8ce31ecb0daa",
   "metadata": {},
   "source": [
    "**Soru 3 :** Şarap kalitesi ile alkol arasındaki ilişki miktarını ve yönünü\n",
    "0,05 anlamlılık düzeyinde araştırın.\n",
    "- **H0:** Şarap kalitesi ile alkol arasında anlamlı bir ilişki yoktur.(ρ=0)\n",
    "- **H1:** Şarap kalitesi ile alkol arasında anlamlı bir ilişki vardır.(ρ≠0)"
   ]
  },
  {
   "cell_type": "code",
   "execution_count": 177,
   "id": "1de4733d-8687-471f-bc1f-2bd4c48ca5fd",
   "metadata": {},
   "outputs": [],
   "source": [
    "from scipy.stats import spearmanr\n",
    "data1=df[\"alcohol\"].dropna()\n",
    "data2=df[\"quality\"].dropna()"
   ]
  },
  {
   "cell_type": "code",
   "execution_count": 179,
   "id": "356131be-c387-4a05-bce6-ff5c1efc0ffe",
   "metadata": {},
   "outputs": [
    {
     "name": "stdout",
     "output_type": "stream",
     "text": [
      "stat=0.495, p=0.000\n"
     ]
    }
   ],
   "source": [
    "#Spearman sıra korelasyon testi\n",
    "stat, p = spearmanr(data1, data2)\n",
    "print('stat=%.3f, p=%.3f' % (stat, p))"
   ]
  },
  {
   "cell_type": "code",
   "execution_count": 182,
   "id": "00a2e037-b94e-4be8-afa7-d670c74d6ffb",
   "metadata": {},
   "outputs": [
    {
     "name": "stdout",
     "output_type": "stream",
     "text": [
      "H1 kabul edilir.Şarap kalitesi ile alkol arasında anlamlı bir ilişki vardır.(ρ≠0)\n"
     ]
    }
   ],
   "source": [
    "#sonucu yorumlama\n",
    "if p > 0.05:\n",
    " print('H0 kabul edilir.Şarap kalitesi ile alkol arasında anlamlı bir ilişki yoktur.(ρ=0)')\n",
    "else:\n",
    " print('H1 kabul edilir.Şarap kalitesi ile alkol arasında anlamlı bir ilişki vardır.(ρ≠0)')"
   ]
  },
  {
   "cell_type": "code",
   "execution_count": 184,
   "id": "9ae41478-b555-478b-abc7-b7dc10842752",
   "metadata": {},
   "outputs": [
    {
     "data": {
      "image/png": "[encoded data removed]",
      "text/plain": [
       "<Figure size 800x600 with 2 Axes>"
      ]
     },
     "metadata": {},
     "output_type": "display_data"
    }
   ],
   "source": [
    "correlation_matrix = df.corr()\n",
    "plt.figure(figsize=(8, 6))\n",
    "sns.heatmap(correlation_matrix, annot=True, fmt='.2f')\n",
    "plt.title('Korelasyon Matrisi')\n",
    "plt.show()"
   ]
  },
  {
   "cell_type": "markdown",
   "id": "fe5f61aa-6158-4212-94ab-8c77ca5cb060",
   "metadata": {},
   "source": [
    "**Soru 4 :** Uçucu asit(volatile acidity) ile serbest kükürt dioksit(free sulfur dioxide) arasındaki ilişki miktarını ve yönünü\n",
    "0,05 anlamlılık düzeyinde araştırın.\n",
    "- **H0:** Uçucu asit(volatile acidity) ile serbest kükürt dioksit(free sulfur dioxide) arasında anlamlı bir ilişki yoktur.(ρ=0)\n",
    "- **H1:** Uçucu asit(volatile acidity) ile serbest kükürt dioksit(free sulfur dioxide) arasında anlamlı bir ilişki vardır.(ρ≠0)"
   ]
  },
  {
   "cell_type": "code",
   "execution_count": 206,
   "id": "7de2b02c-fee7-454d-8485-5680b4afab4a",
   "metadata": {},
   "outputs": [],
   "source": [
    "data1=df[\"volatile acidity\"].dropna()\n",
    "data2=df[\"free sulfur dioxide\"].dropna()"
   ]
  },
  {
   "cell_type": "code",
   "execution_count": 208,
   "id": "a3dbd04b-ca68-4a82-a0a7-232e0d8b2d5c",
   "metadata": {},
   "outputs": [
    {
     "name": "stdout",
     "output_type": "stream",
     "text": [
      "stat=0.021, p=0.474\n"
     ]
    }
   ],
   "source": [
    "#Spearman sıra korelasyon testi\n",
    "stat, p = spearmanr(data1, data2)\n",
    "print('stat=%.3f, p=%.3f' % (stat, p))"
   ]
  },
  {
   "cell_type": "code",
   "execution_count": 213,
   "id": "07c95d72-d2c2-461e-89a1-f0ea0956485d",
   "metadata": {},
   "outputs": [
    {
     "name": "stdout",
     "output_type": "stream",
     "text": [
      "H0 kabul edilir.Uçucu asit(volatile acidity) ile serbest kükürt dioksit(free sulfur dioxide) arasında anlamlı bir ilişki yoktur.(ρ=0)\n"
     ]
    }
   ],
   "source": [
    "#sonucu yorumlama\n",
    "if p > 0.05:\n",
    " print('H0 kabul edilir.Uçucu asit(volatile acidity) ile serbest kükürt dioksit(free sulfur dioxide) arasında anlamlı bir ilişki yoktur.(ρ=0)')\n",
    "else:\n",
    " print('H1 kabul edilir.Uçucu asit(volatile acidity) ile serbest kükürt dioksit(free sulfur dioxide) arasında anlamlı bir ilişki vardır.(ρ≠0)')"
   ]
  },
  {
   "cell_type": "markdown",
   "id": "3e591ad3-563f-4c42-b1b1-10a45abd170c",
   "metadata": {},
   "source": [
    "##  Kendall'ın Sıra Korelasyonu\n",
    "- Bir diğer non-parametric ve sıralı korelasyon katsayısıdır.\n",
    "- Miktarlara göre sıralandığında verilerin sıralamasındaki benzerlikleri test etmek için kullanılır.\n",
    "- Başka kaynağa göre de ik, kaynağın monotonik ilişkisi olup olmadığını test eder.\n",
    "- İncelenen değişkenlerin biri veya ikisi sıralı ise kullanılabilir.\n",
    "- Hipotezleri yine : \n",
    "- **H0:** İlişki yoktur.\n",
    "- **H1:** İlişki vardır. Şeklinde kurulur"
   ]
  },
  {
   "cell_type": "code",
   "execution_count": 404,
   "id": "428b24c7-66eb-479a-949b-f805e0046588",
   "metadata": {},
   "outputs": [
    {
     "data": {
      "text/html": [
       "<div>\n",
       "<style scoped>\n",
       "    .dataframe tbody tr th:only-of-type {\n",
       "        vertical-align: middle;\n",
       "    }\n",
       "\n",
       "    .dataframe tbody tr th {\n",
       "        vertical-align: top;\n",
       "    }\n",
       "\n",
       "    .dataframe thead th {\n",
       "        text-align: right;\n",
       "    }\n",
       "</style>\n",
       "<table border=\"1\" class=\"dataframe\">\n",
       "  <thead>\n",
       "    <tr style=\"text-align: right;\">\n",
       "      <th></th>\n",
       "      <th>school</th>\n",
       "      <th>sex</th>\n",
       "      <th>age</th>\n",
       "      <th>address</th>\n",
       "      <th>famsize</th>\n",
       "      <th>Pstatus</th>\n",
       "      <th>Medu</th>\n",
       "      <th>Fedu</th>\n",
       "      <th>Mjob</th>\n",
       "      <th>Fjob</th>\n",
       "      <th>...</th>\n",
       "      <th>famrel</th>\n",
       "      <th>freetime</th>\n",
       "      <th>goout</th>\n",
       "      <th>Dalc</th>\n",
       "      <th>Walc</th>\n",
       "      <th>health</th>\n",
       "      <th>absences</th>\n",
       "      <th>G1</th>\n",
       "      <th>G2</th>\n",
       "      <th>G3</th>\n",
       "    </tr>\n",
       "  </thead>\n",
       "  <tbody>\n",
       "    <tr>\n",
       "      <th>0</th>\n",
       "      <td>GP</td>\n",
       "      <td>F</td>\n",
       "      <td>18</td>\n",
       "      <td>U</td>\n",
       "      <td>GT3</td>\n",
       "      <td>A</td>\n",
       "      <td>4</td>\n",
       "      <td>4</td>\n",
       "      <td>at_home</td>\n",
       "      <td>teacher</td>\n",
       "      <td>...</td>\n",
       "      <td>4</td>\n",
       "      <td>3</td>\n",
       "      <td>4</td>\n",
       "      <td>1</td>\n",
       "      <td>1</td>\n",
       "      <td>3</td>\n",
       "      <td>6</td>\n",
       "      <td>5</td>\n",
       "      <td>6</td>\n",
       "      <td>6</td>\n",
       "    </tr>\n",
       "    <tr>\n",
       "      <th>1</th>\n",
       "      <td>GP</td>\n",
       "      <td>F</td>\n",
       "      <td>17</td>\n",
       "      <td>U</td>\n",
       "      <td>GT3</td>\n",
       "      <td>T</td>\n",
       "      <td>1</td>\n",
       "      <td>1</td>\n",
       "      <td>at_home</td>\n",
       "      <td>other</td>\n",
       "      <td>...</td>\n",
       "      <td>5</td>\n",
       "      <td>3</td>\n",
       "      <td>3</td>\n",
       "      <td>1</td>\n",
       "      <td>1</td>\n",
       "      <td>3</td>\n",
       "      <td>4</td>\n",
       "      <td>5</td>\n",
       "      <td>5</td>\n",
       "      <td>6</td>\n",
       "    </tr>\n",
       "    <tr>\n",
       "      <th>2</th>\n",
       "      <td>GP</td>\n",
       "      <td>F</td>\n",
       "      <td>15</td>\n",
       "      <td>U</td>\n",
       "      <td>LE3</td>\n",
       "      <td>T</td>\n",
       "      <td>1</td>\n",
       "      <td>1</td>\n",
       "      <td>at_home</td>\n",
       "      <td>other</td>\n",
       "      <td>...</td>\n",
       "      <td>4</td>\n",
       "      <td>3</td>\n",
       "      <td>2</td>\n",
       "      <td>2</td>\n",
       "      <td>3</td>\n",
       "      <td>3</td>\n",
       "      <td>10</td>\n",
       "      <td>7</td>\n",
       "      <td>8</td>\n",
       "      <td>10</td>\n",
       "    </tr>\n",
       "  </tbody>\n",
       "</table>\n",
       "<p>3 rows × 33 columns</p>\n",
       "</div>"
      ],
      "text/plain": [
       "  school sex  age address famsize Pstatus  Medu  Fedu     Mjob     Fjob  ...  \\\n",
       "0     GP   F   18       U     GT3       A     4     4  at_home  teacher  ...   \n",
       "1     GP   F   17       U     GT3       T     1     1  at_home    other  ...   \n",
       "2     GP   F   15       U     LE3       T     1     1  at_home    other  ...   \n",
       "\n",
       "  famrel freetime  goout  Dalc  Walc health absences G1 G2  G3  \n",
       "0      4        3      4     1     1      3        6  5  6   6  \n",
       "1      5        3      3     1     1      3        4  5  5   6  \n",
       "2      4        3      2     2     3      3       10  7  8  10  \n",
       "\n",
       "[3 rows x 33 columns]"
      ]
     },
     "execution_count": 404,
     "metadata": {},
     "output_type": "execute_result"
    }
   ],
   "source": [
    "# Veri setini yükleyin : Öğrenci Alkol Tüketimi\n",
    "df = pd.read_csv(\"student-mat.csv\")\n",
    "df.head(3)"
   ]
  },
  {
   "cell_type": "code",
   "execution_count": 264,
   "id": "37cc715a-5527-43ca-9d7d-e7643328a94c",
   "metadata": {},
   "outputs": [
    {
     "data": {
      "text/plain": [
       "Index(['school', 'sex', 'age', 'address', 'famsize', 'Pstatus', 'Medu', 'Fedu',\n",
       "       'Mjob', 'Fjob', 'reason', 'guardian', 'traveltime', 'studytime',\n",
       "       'failures', 'schoolsup', 'famsup', 'paid', 'activities', 'nursery',\n",
       "       'higher', 'internet', 'romantic', 'famrel', 'freetime', 'goout', 'Dalc',\n",
       "       'Walc', 'health', 'absences', 'G1', 'G2', 'G3'],\n",
       "      dtype='object')"
      ]
     },
     "execution_count": 264,
     "metadata": {},
     "output_type": "execute_result"
    }
   ],
   "source": [
    "df.columns"
   ]
  },
  {
   "cell_type": "code",
   "execution_count": 282,
   "id": "90678051-091c-4dc3-9715-6f6827cd8e41",
   "metadata": {},
   "outputs": [
    {
     "data": {
      "text/plain": [
       "5"
      ]
     },
     "execution_count": 282,
     "metadata": {},
     "output_type": "execute_result"
    }
   ],
   "source": [
    "df[\"Walc\"].nunique()"
   ]
  },
  {
   "cell_type": "code",
   "execution_count": 287,
   "id": "e9e9e874-01a1-427f-8778-20d90b480113",
   "metadata": {},
   "outputs": [],
   "source": [
    "#Walc: Haftalık alkol tüketim sıklığı\n",
    "#G3: Final notu (okul başarısını temsil eden sürekli bir değişken)."
   ]
  },
  {
   "cell_type": "markdown",
   "id": "d7433a03-4852-4cb7-b373-97f26e9c093b",
   "metadata": {},
   "source": [
    "**Soru 5:** Walc ile G3 notu arasındaki ilişki miktarını ve yönünü\n",
    "0,05 anlamlılık düzeyinde araştırın.\n",
    "- **H0:** Walc ile G3 arasında anlamlı bir ilişki yoktur.(ρ=0)\n",
    "- **H1:** Walc ile G3 arasında anlamlı bir ilişki vardır.(ρ≠0)"
   ]
  },
  {
   "cell_type": "code",
   "execution_count": 305,
   "id": "dfc65d73-8d28-4992-9397-a7fdb61ca99f",
   "metadata": {},
   "outputs": [
    {
     "name": "stdout",
     "output_type": "stream",
     "text": [
      "stat=-0.083, p=0.033\n",
      "H0 reddedilir,Walc ile G3 arasında anlamlı bir ilişki vardır.(ρ≠0)\n"
     ]
    }
   ],
   "source": [
    "from scipy.stats import kendalltau\n",
    "data1 = df[\"Walc\"]\n",
    "data2 = df[\"G3\"]\n",
    "stat, p = kendalltau(data1, data2)\n",
    "print('stat=%.3f, p=%.3f' % (stat, p))\n",
    "if p > 0.05:\n",
    " print('H0 kabul edilir,Walc ile G3 arasında anlamlı bir ilişki yoktur.(ρ=0)')\n",
    "else:\n",
    " print('H0 reddedilir,Walc ile G3 arasında anlamlı bir ilişki vardır.(ρ≠0)')"
   ]
  },
  {
   "cell_type": "markdown",
   "id": "65b86aa0-dbd4-4efa-8692-300c8984e60d",
   "metadata": {},
   "source": [
    "**Soru 6:** Yaş (age) ile final notu (G3) arasındaki ilişki miktarını ve yönünü\n",
    "0,05 anlamlılık düzeyinde araştırın.\n",
    "- **H0:** Yaş (age) ile final notu (G3) arasında anlamlı bir ilişki yoktur.(ρ=0)\n",
    "- **H1:** Yaş (age) ile final notu (G3) arasında anlamlı bir ilişki vardır.(ρ≠0)"
   ]
  },
  {
   "cell_type": "code",
   "execution_count": 303,
   "id": "18e4a8d5-d820-480b-aaee-85a93c8bca88",
   "metadata": {},
   "outputs": [
    {
     "name": "stdout",
     "output_type": "stream",
     "text": [
      "stat=-0.134, p=0.000\n",
      "H0 reddedilir,Yaş (age) ile final notu (G3) arasında anlamlı bir ilişki vardır.(ρ≠0)\n"
     ]
    }
   ],
   "source": [
    "from scipy.stats import kendalltau\n",
    "data1 = df[\"age\"]\n",
    "data2 = df[\"G3\"]\n",
    "stat, p = kendalltau(data1, data2)\n",
    "print('stat=%.3f, p=%.3f' % (stat, p))\n",
    "if p > 0.05:\n",
    " print('H0 kabul edilir,Yaş (age) ile final notu (G3) arasında anlamlı bir ilişki yoktur.(ρ=0)')\n",
    "else:\n",
    " print('H0 reddedilir,Yaş (age) ile final notu (G3) arasında anlamlı bir ilişki vardır.(ρ≠0)')"
   ]
  },
  {
   "cell_type": "markdown",
   "id": "d8a8e314-3661-4e58-a74e-6d106863c631",
   "metadata": {},
   "source": [
    "**Soru 7:** İki basketbol koçunun 12 oyuncusunu en kötüden en iyiye doğru sıraladığını varsayalım.İki koçun sıralaması arasındaki korelasyonu hesaplayın.\n",
    "- **H0:** iki koçun oyunculara atadığı sıralamalar arasında istatistiksel olarak anlamlı bir korelasyon yoktur.(ρ=0)\n",
    "- **H1:** iki koçun oyunculara atadığı sıralamalar arasında istatistiksel olarak anlamlı bir korelasyon vardır.(ρ≠0)"
   ]
  },
  {
   "cell_type": "code",
   "execution_count": 307,
   "id": "9e7af6e6-3317-4dc6-a7f4-65c52e86a6c4",
   "metadata": {},
   "outputs": [],
   "source": [
    "data = {\n",
    "    \"Player\": [\"AJ\", \"Ben\", \"Conner\", \"Duane\", \"Elliot\", \"Frank\", \"Greg\", \"Hank\", \"Isaiah\", \"Jim\", \"Kurt\", \"Luke\"],\n",
    "    \"Coach #1\": [1, 2, 3, 4, 5, 6, 7, 8, 9, 10, 11, 12],\n",
    "    \"Coach #2\": [1, 2, 3, 5, 4, 7, 6, 8, 10, 9, 11, 12]\n",
    "}\n",
    "\n",
    "df = pd.DataFrame(data)"
   ]
  },
  {
   "cell_type": "code",
   "execution_count": 309,
   "id": "ef2e0b9e-42dd-4603-9e3d-2aaa26882057",
   "metadata": {},
   "outputs": [
    {
     "name": "stdout",
     "output_type": "stream",
     "text": [
      "stat=0.909, p=0.000\n",
      "H0 reddedilir,Yaş (age) ile final notu (G3) arasında anlamlı bir ilişki vardır.(ρ≠0)\n"
     ]
    }
   ],
   "source": [
    "data1 = df[\"Coach #1\"]\n",
    "data2 = df[\"Coach #2\"]\n",
    "stat, p = kendalltau(data1, data2)\n",
    "print('stat=%.3f, p=%.3f' % (stat, p))\n",
    "if p > 0.05:\n",
    " print('H0 kabul edilir,Yaş (age) ile final notu (G3) arasında anlamlı bir ilişki yoktur.(ρ=0)')\n",
    "else:\n",
    " print('H0 reddedilir,Yaş (age) ile final notu (G3) arasında anlamlı bir ilişki vardır.(ρ≠0)')"
   ]
  },
  {
   "cell_type": "markdown",
   "id": "a6c7c0b6-dd11-4219-827a-5473952d571a",
   "metadata": {},
   "source": [
    "## Ki-Kare Testi"
   ]
  },
  {
   "cell_type": "markdown",
   "id": "558eb351-67a6-4117-9bc6-c7a6b988968f",
   "metadata": {},
   "source": [
    "- Ki-Kare testi gözlenen frekanslarla beklenen frekanslar arasındaki farkın \n",
    "anlamlı olup olmadığını test etme temeline dayanır.\n",
    "- Yani bir doğum kliniğinde doğacak 100 bebeğin 50’sinin\n",
    "erkek, 50’sinin kız olması beklenir. Bunlar beklenen\n",
    "frekanslardır.\n",
    "- Ancak doğan 100 bebeğin he zaman 50’si erkek 50’si kız\n",
    "olmayabilir. Bir klinikte doğan 100 bebeğin 58’inin erkek,\n",
    "42’sinin kız olduğunu varsayalım. Bunlar da gözlenen\n",
    "frekanslard\n",
    "- Bu örnekte beklenen ve gözlenen frekanslar arasında erkekler\n",
    "için +8 ve kızlar için -8’lik bir fark vardı.\n",
    "- **Bu farkın istatistiksel olarak anlamlı olup olmadığının test \n",
    "edilmesi ki-kare testinin temel mantığını oluşturr**\n",
    "- Ki kare testinde kategorik veriler kullanılır.\n",
    "- Ayrıca ölçümle belirtildiği halde sonradan nitel veri haline\n",
    "dönüştürülmüş verilerin incelenmesinde de ki-kare testi kullanılır\n",
    "- Hemoglobin değerlerinin ölçülmesinden sonra hemoglobin\n",
    "değeri belirli bir değerden az olanların anemik, diğerlerinin normal\n",
    "olarak nitelendirilmesi gibi.\n"
   ]
  },
  {
   "cell_type": "code",
   "execution_count": 321,
   "id": "01c52f0d-51b9-462a-9eb1-ea110ec2df19",
   "metadata": {},
   "outputs": [
    {
     "data": {
      "text/html": [
       "<div>\n",
       "<style scoped>\n",
       "    .dataframe tbody tr th:only-of-type {\n",
       "        vertical-align: middle;\n",
       "    }\n",
       "\n",
       "    .dataframe tbody tr th {\n",
       "        vertical-align: top;\n",
       "    }\n",
       "\n",
       "    .dataframe thead th {\n",
       "        text-align: right;\n",
       "    }\n",
       "</style>\n",
       "<table border=\"1\" class=\"dataframe\">\n",
       "  <thead>\n",
       "    <tr style=\"text-align: right;\">\n",
       "      <th></th>\n",
       "      <th>Passengerid</th>\n",
       "      <th>Age</th>\n",
       "      <th>Fare</th>\n",
       "      <th>Sex</th>\n",
       "      <th>sibsp</th>\n",
       "      <th>zero</th>\n",
       "      <th>zero.1</th>\n",
       "      <th>zero.2</th>\n",
       "      <th>zero.3</th>\n",
       "      <th>zero.4</th>\n",
       "      <th>...</th>\n",
       "      <th>zero.12</th>\n",
       "      <th>zero.13</th>\n",
       "      <th>zero.14</th>\n",
       "      <th>Pclass</th>\n",
       "      <th>zero.15</th>\n",
       "      <th>zero.16</th>\n",
       "      <th>Embarked</th>\n",
       "      <th>zero.17</th>\n",
       "      <th>zero.18</th>\n",
       "      <th>2urvived</th>\n",
       "    </tr>\n",
       "  </thead>\n",
       "  <tbody>\n",
       "    <tr>\n",
       "      <th>0</th>\n",
       "      <td>1</td>\n",
       "      <td>22.0</td>\n",
       "      <td>7.2500</td>\n",
       "      <td>0</td>\n",
       "      <td>1</td>\n",
       "      <td>0</td>\n",
       "      <td>0</td>\n",
       "      <td>0</td>\n",
       "      <td>0</td>\n",
       "      <td>0</td>\n",
       "      <td>...</td>\n",
       "      <td>0</td>\n",
       "      <td>0</td>\n",
       "      <td>0</td>\n",
       "      <td>3</td>\n",
       "      <td>0</td>\n",
       "      <td>0</td>\n",
       "      <td>2.0</td>\n",
       "      <td>0</td>\n",
       "      <td>0</td>\n",
       "      <td>0</td>\n",
       "    </tr>\n",
       "    <tr>\n",
       "      <th>1</th>\n",
       "      <td>2</td>\n",
       "      <td>38.0</td>\n",
       "      <td>71.2833</td>\n",
       "      <td>1</td>\n",
       "      <td>1</td>\n",
       "      <td>0</td>\n",
       "      <td>0</td>\n",
       "      <td>0</td>\n",
       "      <td>0</td>\n",
       "      <td>0</td>\n",
       "      <td>...</td>\n",
       "      <td>0</td>\n",
       "      <td>0</td>\n",
       "      <td>0</td>\n",
       "      <td>1</td>\n",
       "      <td>0</td>\n",
       "      <td>0</td>\n",
       "      <td>0.0</td>\n",
       "      <td>0</td>\n",
       "      <td>0</td>\n",
       "      <td>1</td>\n",
       "    </tr>\n",
       "    <tr>\n",
       "      <th>2</th>\n",
       "      <td>3</td>\n",
       "      <td>26.0</td>\n",
       "      <td>7.9250</td>\n",
       "      <td>1</td>\n",
       "      <td>0</td>\n",
       "      <td>0</td>\n",
       "      <td>0</td>\n",
       "      <td>0</td>\n",
       "      <td>0</td>\n",
       "      <td>0</td>\n",
       "      <td>...</td>\n",
       "      <td>0</td>\n",
       "      <td>0</td>\n",
       "      <td>0</td>\n",
       "      <td>3</td>\n",
       "      <td>0</td>\n",
       "      <td>0</td>\n",
       "      <td>2.0</td>\n",
       "      <td>0</td>\n",
       "      <td>0</td>\n",
       "      <td>1</td>\n",
       "    </tr>\n",
       "  </tbody>\n",
       "</table>\n",
       "<p>3 rows × 28 columns</p>\n",
       "</div>"
      ],
      "text/plain": [
       "   Passengerid   Age     Fare  Sex  sibsp  zero  zero.1  zero.2  zero.3  \\\n",
       "0            1  22.0   7.2500    0      1     0       0       0       0   \n",
       "1            2  38.0  71.2833    1      1     0       0       0       0   \n",
       "2            3  26.0   7.9250    1      0     0       0       0       0   \n",
       "\n",
       "   zero.4  ...  zero.12  zero.13  zero.14  Pclass  zero.15  zero.16  Embarked  \\\n",
       "0       0  ...        0        0        0       3        0        0       2.0   \n",
       "1       0  ...        0        0        0       1        0        0       0.0   \n",
       "2       0  ...        0        0        0       3        0        0       2.0   \n",
       "\n",
       "   zero.17  zero.18  2urvived  \n",
       "0        0        0         0  \n",
       "1        0        0         1  \n",
       "2        0        0         1  \n",
       "\n",
       "[3 rows x 28 columns]"
      ]
     },
     "execution_count": 321,
     "metadata": {},
     "output_type": "execute_result"
    }
   ],
   "source": [
    "#Titanik veri seti\n",
    "df = pd.read_csv(\"titanic.csv\")\n",
    "df.head(3)"
   ]
  },
  {
   "cell_type": "code",
   "execution_count": 325,
   "id": "715fd4b5-6dca-46d8-a495-39fa06d55e5a",
   "metadata": {},
   "outputs": [
    {
     "data": {
      "text/plain": [
       "Index(['Passengerid', 'Age', 'Fare', 'Sex', 'sibsp', 'zero', 'zero.1',\n",
       "       'zero.2', 'zero.3', 'zero.4', 'zero.5', 'zero.6', 'Parch', 'zero.7',\n",
       "       'zero.8', 'zero.9', 'zero.10', 'zero.11', 'zero.12', 'zero.13',\n",
       "       'zero.14', 'Pclass', 'zero.15', 'zero.16', 'Embarked', 'zero.17',\n",
       "       'zero.18', '2urvived'],\n",
       "      dtype='object')"
      ]
     },
     "execution_count": 325,
     "metadata": {},
     "output_type": "execute_result"
    }
   ],
   "source": [
    "df.columns"
   ]
  },
  {
   "cell_type": "markdown",
   "id": "52a7bf8e-2ec0-4acd-9c1d-08eb3bc6eb4a",
   "metadata": {},
   "source": [
    "**Soru 8 :** Cinsiyetin hayatta kalma durumunu etkileyip etkilemediğini inceleyin.\n",
    "- **H0:** Cinsiyetin hayatta kalma durumu üzerinde etkisi yoktur.\n",
    "- **H1:** Cinsiyetin hayatta kalma durumu üzerinde etkisi vardır."
   ]
  },
  {
   "cell_type": "code",
   "execution_count": 360,
   "id": "8eed3109-b83d-4262-bb62-af1996ef0ea3",
   "metadata": {},
   "outputs": [
    {
     "name": "stdout",
     "output_type": "stream",
     "text": [
      "2urvived    0    1\n",
      "Sex               \n",
      "0         734  109\n",
      "1         233  233\n"
     ]
    }
   ],
   "source": [
    "# Cinsiyet ve hayatta kalma durumu için frekans tablosunu oluşturun\n",
    "contingency_table = pd.crosstab(df['Sex'], df['2urvived'])\n",
    "print(contingency_table)"
   ]
  },
  {
   "cell_type": "code",
   "execution_count": 329,
   "id": "d6f78b31-939d-4d3c-80af-4919ae3f7b7f",
   "metadata": {},
   "outputs": [],
   "source": [
    "from scipy.stats import chi2_contingency"
   ]
  },
  {
   "cell_type": "code",
   "execution_count": 347,
   "id": "97fb3990-24ec-4dd1-ae63-0084042c71dc",
   "metadata": {},
   "outputs": [
    {
     "name": "stdout",
     "output_type": "stream",
     "text": [
      "stat=211.755, p=0.000\n"
     ]
    }
   ],
   "source": [
    "## Ki-Kare Testi\n",
    "stat, p, dof, expected = chi2_contingency(contingency_table)\n",
    "print('stat=%.3f, p=%.3f' % (stat, p))"
   ]
  },
  {
   "cell_type": "code",
   "execution_count": 351,
   "id": "ef8b5c57-b27b-4816-8312-53d210140d72",
   "metadata": {},
   "outputs": [
    {
     "name": "stdout",
     "output_type": "stream",
     "text": [
      "H1 kabul edilir.Cinsiyetin hayatta kalma durumu üzerinde etkisi vardır.\n"
     ]
    }
   ],
   "source": [
    "#Sonucun Yorumlanması\n",
    "if p > 0.05:\n",
    " print('H0 kabul edilir.Cinsiyetin hayatta kalma durumu üzerinde etkisi yoktur.')\n",
    "else:\n",
    " print('H1 kabul edilir.Cinsiyetin hayatta kalma durumu üzerinde etkisi vardır.')"
   ]
  },
  {
   "cell_type": "markdown",
   "id": "93ae9501-d872-4605-9bd9-fb6a246a8926",
   "metadata": {},
   "source": [
    "**Soru 9 :** Yolcu sınıfının hayatta kalma durumunu etkileyip etkilemediğini inceleyiniz.\n",
    "- H0: Yolcu sınıfının hayatta kalma durumu üzerinde etkisi yoktur.\n",
    "- H1: Yolcu sınıfının hayatta kalma durumu üzerinde etkisi vardır."
   ]
  },
  {
   "cell_type": "code",
   "execution_count": 364,
   "id": "a146572c-4c30-4c68-a882-2dfd1fcb5282",
   "metadata": {},
   "outputs": [
    {
     "name": "stdout",
     "output_type": "stream",
     "text": [
      "2urvived    0    1\n",
      "Pclass            \n",
      "1         187  136\n",
      "2         190   87\n",
      "3         590  119\n"
     ]
    }
   ],
   "source": [
    "contingency_table = pd.crosstab(df['Pclass'], df['2urvived'])\n",
    "print(contingency_table)"
   ]
  },
  {
   "cell_type": "code",
   "execution_count": 366,
   "id": "143d7530-e74b-4cbe-9ab8-eb0491b52ea1",
   "metadata": {},
   "outputs": [
    {
     "name": "stdout",
     "output_type": "stream",
     "text": [
      "stat=78.793, p=0.000\n"
     ]
    }
   ],
   "source": [
    "## Ki-Kare Testi\n",
    "stat, p, dof, expected = chi2_contingency(contingency_table)\n",
    "print('stat=%.3f, p=%.3f' % (stat, p))"
   ]
  },
  {
   "cell_type": "code",
   "execution_count": 370,
   "id": "f574834c-abe6-4c2e-9d47-ceedd7a8b80e",
   "metadata": {},
   "outputs": [
    {
     "name": "stdout",
     "output_type": "stream",
     "text": [
      "H1 kabul edilir.Yolcu sınıfının hayatta kalma durumu üzerinde etkisi vardır.\n"
     ]
    }
   ],
   "source": [
    "#Sonucun Yorumlanması\n",
    "if p > 0.05:\n",
    " print('H0 kabul edilir.Yolcu sınıfının hayatta kalma durumu üzerinde etkisi yoktur.')\n",
    "else:\n",
    " print('H1 kabul edilir.Yolcu sınıfının hayatta kalma durumu üzerinde etkisi vardır.')"
   ]
  }
 ],
 "metadata": {
  "kernelspec": {
   "display_name": "Python 3 (ipykernel)",
   "language": "python",
   "name": "python3"
  },
  "language_info": {
   "codemirror_mode": {
    "name": "ipython",
    "version": 3
   },
   "file_extension": ".py",
   "mimetype": "text/x-python",
   "name": "python",
   "nbconvert_exporter": "python",
   "pygments_lexer": "ipython3",
   "version": "3.12.4"
  }
 },
 "nbformat": 4,
 "nbformat_minor": 5
}
